{
 "cells": [
  {
   "cell_type": "markdown",
   "metadata": {},
   "source": [
    "\n",
    "This notebook demonstrates the use of a truth library, via \n",
    "`VerifierAgent` class to automatically assess the truthfulness of statements.\n"
   ]
  },
  {
   "cell_type": "code",
   "execution_count": 2,
   "metadata": {},
   "outputs": [],
   "source": [
    "# load secret\n",
    "from dotenv import load_dotenv\n",
    "import os\n",
    "\n",
    "load_dotenv()\n",
    "\n",
    "mistral_api_key = os.getenv(\"MISTRAL_API_KEY\")\n",
    "brave_api_key = os.getenv(\"BRAVE_API_KEY\")\n"
   ]
  },
  {
   "cell_type": "code",
   "execution_count": 4,
   "metadata": {},
   "outputs": [
    {
     "name": "stderr",
     "output_type": "stream",
     "text": [
      "\u001b[32m2024-10-06 07:11:29.740\u001b[0m | \u001b[32m\u001b[1mSUCCESS \u001b[0m | \u001b[36mtruth.verifier\u001b[0m:\u001b[36m__init__\u001b[0m:\u001b[36m34\u001b[0m - \u001b[32m\u001b[1mVerifier Agent initialized with model: mistral-small-latest\u001b[0m\n"
     ]
    }
   ],
   "source": [
    "from truth import VerifierAgent\n",
    "\n",
    "agent = VerifierAgent(\n",
    "    mistral_api_key=mistral_api_key,\n",
    "    brave_api_key=brave_api_key,\n",
    "    model=\"mistral-small-latest\",\n",
    ")\n",
    "\n"
   ]
  },
  {
   "cell_type": "code",
   "execution_count": 5,
   "metadata": {},
   "outputs": [
    {
     "name": "stderr",
     "output_type": "stream",
     "text": [
      "\u001b[32m2024-10-06 07:11:46.967\u001b[0m | \u001b[1mINFO    \u001b[0m | \u001b[36mtruth.verifier\u001b[0m:\u001b[36mlog_event\u001b[0m:\u001b[36m54\u001b[0m - \u001b[1mEvent: Formulate Question\n",
      "Input: The Earth is flat.\n",
      "Output: Is the Earth flat?\n",
      "---\u001b[0m\n",
      "\u001b[32m2024-10-06 07:11:48.225\u001b[0m | \u001b[1mINFO    \u001b[0m | \u001b[36mtruth.verifier\u001b[0m:\u001b[36mlog_event\u001b[0m:\u001b[36m54\u001b[0m - \u001b[1mEvent: Web Search\n",
      "Input: Is the Earth flat?\n",
      "Output: ['https://askanearthspacescientist.asu.edu/top-question/flat-earth', 'https://answersingenesis.org/astronomy/earth/is-the-earth-flat/', 'https://en.wikipedia.org/wiki/Flat_Earth']\n",
      "---\u001b[0m\n",
      "\u001b[32m2024-10-06 07:11:48.227\u001b[0m | \u001b[34m\u001b[1mDEBUG   \u001b[0m | \u001b[36mtruth.verifier\u001b[0m:\u001b[36mplan_actions\u001b[0m:\u001b[36m103\u001b[0m - \u001b[34m\u001b[1mAction descriptions: - read_wiki_entry: Reads the summary of a Wikipedia entry from a given Wikipedia URL.\n",
      "- read_youtube_transcript: Retrieves the transcript of a YouTube video from a given YouTube URL. Applicable only to YouTube links.\n",
      "- read_webpage_content: Fetches and extracts the text content from a webpage URL.\u001b[0m\n",
      "\u001b[32m2024-10-06 07:11:51.161\u001b[0m | \u001b[1mINFO    \u001b[0m | \u001b[36mtruth.verifier\u001b[0m:\u001b[36mlog_event\u001b[0m:\u001b[36m54\u001b[0m - \u001b[1mEvent: Plan Actions\n",
      "Input: {'question': 'Is the Earth flat?', 'links': ['https://askanearthspacescientist.asu.edu/top-question/flat-earth', 'https://answersingenesis.org/astronomy/earth/is-the-earth-flat/', 'https://en.wikipedia.org/wiki/Flat_Earth']}\n",
      "Output: [{'action_name': 'read_wiki_entry', 'params': {'url': 'https://en.wikipedia.org/wiki/Flat_Earth'}, 'reason': 'Wikipedia is a reliable source for summarized information on a wide range of topics, including scientific theories.'}, {'action_name': 'read_webpage_content', 'params': {'url': 'https://askanearthspacescientist.asu.edu/top-question/flat-earth'}, 'reason': 'This link appears to be from a reputable scientific institution and may provide detailed information on the topic.'}, {'action_name': 'read_webpage_content', 'params': {'url': 'https://answersingenesis.org/astronomy/earth/is-the-earth-flat/'}, 'reason': 'This link could provide additional perspectives and arguments to consider.'}]\n",
      "---\u001b[0m\n",
      "\u001b[32m2024-10-06 07:11:51.162\u001b[0m | \u001b[1mINFO    \u001b[0m | \u001b[36mtruth.verifier\u001b[0m:\u001b[36mtake_action\u001b[0m:\u001b[36m160\u001b[0m - \u001b[1mTaking action: read_wiki_entry with params: {'url': 'https://en.wikipedia.org/wiki/Flat_Earth'}\u001b[0m\n",
      "\u001b[32m2024-10-06 07:11:52.019\u001b[0m | \u001b[1mINFO    \u001b[0m | \u001b[36mtruth.verifier\u001b[0m:\u001b[36mlog_event\u001b[0m:\u001b[36m54\u001b[0m - \u001b[1mEvent: Action Taken: read_wiki_entry\n",
      "Input: {'url': 'https://en.wikipedia.org/wiki/Flat_Earth'}\n",
      "Output: {'success': True, 'content': \"Flat Earth is an archaic and scientifically disproven conception of the Earth's shape as a plane or disk. Many ancient cultures subscribed to a flat-Earth cosmography, notably including ancient near e... [truncated]\", 'url': 'https://en.wikipedia.org/wiki/Flat_Earth', 'error': None}\n",
      "---\u001b[0m\n",
      "\u001b[32m2024-10-06 07:11:52.020\u001b[0m | \u001b[1mINFO    \u001b[0m | \u001b[36mtruth.verifier\u001b[0m:\u001b[36mtake_action\u001b[0m:\u001b[36m160\u001b[0m - \u001b[1mTaking action: read_webpage_content with params: {'url': 'https://askanearthspacescientist.asu.edu/top-question/flat-earth'}\u001b[0m\n",
      "\u001b[32m2024-10-06 07:11:52.463\u001b[0m | \u001b[1mINFO    \u001b[0m | \u001b[36mtruth.verifier\u001b[0m:\u001b[36mlog_event\u001b[0m:\u001b[36m54\u001b[0m - \u001b[1mEvent: Action Taken: read_webpage_content\n",
      "Input: {'url': 'https://askanearthspacescientist.asu.edu/top-question/flat-earth'}\n",
      "Output: {'success': True, 'content': 'Is the Earth Flat? | Ask An Earth and Space Scientist\\nSkip to Main Page Content\\nAsk An Earth and Space Scientist\\nAsk An Earth and Space Scientist\\nHome\\nActivities\\nColoring Pages and Worksheets\\nExperime... [truncated]', 'url': 'https://askanearthspacescientist.asu.edu/top-question/flat-earth', 'error': None}\n",
      "---\u001b[0m\n",
      "\u001b[32m2024-10-06 07:11:52.464\u001b[0m | \u001b[1mINFO    \u001b[0m | \u001b[36mtruth.verifier\u001b[0m:\u001b[36mtake_action\u001b[0m:\u001b[36m160\u001b[0m - \u001b[1mTaking action: read_webpage_content with params: {'url': 'https://answersingenesis.org/astronomy/earth/is-the-earth-flat/'}\u001b[0m\n",
      "\u001b[32m2024-10-06 07:11:54.147\u001b[0m | \u001b[1mINFO    \u001b[0m | \u001b[36mtruth.verifier\u001b[0m:\u001b[36mlog_event\u001b[0m:\u001b[36m54\u001b[0m - \u001b[1mEvent: Action Taken: read_webpage_content\n",
      "Input: {'url': 'https://answersingenesis.org/astronomy/earth/is-the-earth-flat/'}\n",
      "Output: {'success': True, 'content': 'Is the Earth Flat?\\n| Answers in Genesis\\nInternet Explorer is no longer supported. Try downloading another browser like\\nChrome\\nor\\nFirefox\\n.\\nDouble Your Impact!\\nHelp us share the truth of God’s Word and... [truncated]', 'url': 'https://answersingenesis.org/astronomy/earth/is-the-earth-flat/', 'error': None}\n",
      "---\u001b[0m\n",
      "\u001b[32m2024-10-06 07:12:01.009\u001b[0m | \u001b[1mINFO    \u001b[0m | \u001b[36mtruth.verifier\u001b[0m:\u001b[36mlog_event\u001b[0m:\u001b[36m54\u001b[0m - \u001b[1mEvent: Verify Statement\n",
      "Input: {'statement': 'The Earth is flat.', 'context': '[context data omitted for brevity]'}\n",
      "Output: {'statement': 'The Earth is flat.', 'result': 'No', 'confidence': 'High', 'explanation': \"The context from the Wikipedia entry and the webpage content from 'Ask An Earth and Space Scientist' and 'Answers in Genesis' provides historical, scientific, and observational evidence that the Earth... [truncated]\", 'sources': ['https://en.wikipedia.org/wiki/Flat_Earth', 'https://askanearthspacescientist.asu.edu/top-question/flat-earth', 'https://answersingenesis.org/astronomy/earth/is-the-earth-flat/']}\n",
      "---\u001b[0m\n"
     ]
    }
   ],
   "source": [
    "output = agent.verify_statement(\n",
    "    \"The Earth is flat.\",\n",
    ")\n",
    "\n"
   ]
  },
  {
   "cell_type": "code",
   "execution_count": 6,
   "metadata": {},
   "outputs": [
    {
     "data": {
      "text/plain": [
       "{'statement': 'The Earth is flat.',\n",
       " 'result': 'No',\n",
       " 'confidence': 'High',\n",
       " 'explanation': \"The context from the Wikipedia entry and the webpage content from 'Ask An Earth and Space Scientist' and 'Answers in Genesis' provides historical, scientific, and observational evidence that the Earth is spherical. Pythagoras, Aristotle, and Eratosthenes provided early evidence of a spherical Earth. Modern observations such as shadows, the visibility of stars, and lunar eclipses also support a spherical Earth. Additionally, NASA missions and astronaut testimony confirm the Earth's spherical shape.\",\n",
       " 'sources': ['https://en.wikipedia.org/wiki/Flat_Earth',\n",
       "  'https://askanearthspacescientist.asu.edu/top-question/flat-earth',\n",
       "  'https://answersingenesis.org/astronomy/earth/is-the-earth-flat/'],\n",
       " 'total_time': 14.77,\n",
       " 'total_prompt_tokens': 13123,\n",
       " 'total_completion_tokens': 507,\n",
       " 'total_cost': 0.0029}"
      ]
     },
     "execution_count": 6,
     "metadata": {},
     "output_type": "execute_result"
    }
   ],
   "source": [
    "output"
   ]
  }
 ],
 "metadata": {
  "kernelspec": {
   "display_name": "venv",
   "language": "python",
   "name": "python3"
  },
  "language_info": {
   "codemirror_mode": {
    "name": "ipython",
    "version": 3
   },
   "file_extension": ".py",
   "mimetype": "text/x-python",
   "name": "python",
   "nbconvert_exporter": "python",
   "pygments_lexer": "ipython3",
   "version": "3.12.6"
  }
 },
 "nbformat": 4,
 "nbformat_minor": 2
}
